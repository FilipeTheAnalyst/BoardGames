{
 "cells": [
  {
   "cell_type": "code",
   "execution_count": 1,
   "metadata": {},
   "outputs": [],
   "source": [
    "import smtplib\n",
    "import keyring\n",
    "import sqlite3\n",
    "import pandas as pd\n",
    "from email.message import EmailMessage\n",
    "from datetime import date\n",
    "import csv"
   ]
  },
  {
   "cell_type": "code",
   "execution_count": 13,
   "metadata": {},
   "outputs": [],
   "source": [
    "# Games id that I'm interested in buying with a discount price\n",
    "games_id = []\n",
    "\n",
    "# Desired price\n",
    "price_wanted = 17\n",
    "\n",
    "with open('games.csv', 'r') as f:\n",
    "    csv_reader = csv.reader(f)\n",
    "    for row in csv_reader:\n",
    "        games_id.append(row[0])\n",
    "\n",
    "con = sqlite3.connect(\n",
    "            'C:/Users/u10054206/OneDrive - NOS SGPS, S.A/Carreira/Portfolio/Python Projects/Scrapy/boardgames/boardgames.db')\n",
    "cur = con.cursor()\n",
    "query = f'SELECT id, name, price, url, date FROM jugamosotra WHERE id IN (%s) AND date=\"{date.today()}\"' % ','.join('?' for i in games_id)\n",
    "cur.execute(query, games_id)\n",
    "df = cur.fetchall()"
   ]
  },
  {
   "cell_type": "code",
   "execution_count": 14,
   "metadata": {},
   "outputs": [],
   "source": [
    "df = pd.DataFrame(df, columns=['id', 'name', 'price','url' ,'date'])"
   ]
  },
  {
   "cell_type": "code",
   "execution_count": 15,
   "metadata": {},
   "outputs": [
    {
     "data": {
      "text/html": [
       "<div>\n",
       "<style scoped>\n",
       "    .dataframe tbody tr th:only-of-type {\n",
       "        vertical-align: middle;\n",
       "    }\n",
       "\n",
       "    .dataframe tbody tr th {\n",
       "        vertical-align: top;\n",
       "    }\n",
       "\n",
       "    .dataframe thead th {\n",
       "        text-align: right;\n",
       "    }\n",
       "</style>\n",
       "<table border=\"1\" class=\"dataframe\">\n",
       "  <thead>\n",
       "    <tr style=\"text-align: right;\">\n",
       "      <th></th>\n",
       "      <th>id</th>\n",
       "      <th>name</th>\n",
       "      <th>price</th>\n",
       "      <th>url</th>\n",
       "      <th>date</th>\n",
       "    </tr>\n",
       "  </thead>\n",
       "  <tbody>\n",
       "    <tr>\n",
       "      <th>0</th>\n",
       "      <td>300877.0</td>\n",
       "      <td>New York Zoo</td>\n",
       "      <td>31.49</td>\n",
       "      <td>https://jugamosotra.com/es/juegos/5388-new-yor...</td>\n",
       "      <td>2022-05-22</td>\n",
       "    </tr>\n",
       "    <tr>\n",
       "      <th>1</th>\n",
       "      <td>318084.0</td>\n",
       "      <td>Furnace + Promo</td>\n",
       "      <td>24.37</td>\n",
       "      <td>https://jugamosotra.com/es/juegos/6732-furnace...</td>\n",
       "      <td>2022-05-22</td>\n",
       "    </tr>\n",
       "    <tr>\n",
       "      <th>2</th>\n",
       "      <td>199966.0</td>\n",
       "      <td>Kingsburg Segunda Edición</td>\n",
       "      <td>44.95</td>\n",
       "      <td>https://jugamosotra.com/es/juegos/6471-kingsbu...</td>\n",
       "      <td>2022-05-22</td>\n",
       "    </tr>\n",
       "    <tr>\n",
       "      <th>3</th>\n",
       "      <td>264055.0</td>\n",
       "      <td>Draftosaurus: Marina</td>\n",
       "      <td>11.65</td>\n",
       "      <td>https://jugamosotra.com/es/juegos/5866-draftos...</td>\n",
       "      <td>2022-05-22</td>\n",
       "    </tr>\n",
       "  </tbody>\n",
       "</table>\n",
       "</div>"
      ],
      "text/plain": [
       "         id                       name  price  \\\n",
       "0  300877.0               New York Zoo  31.49   \n",
       "1  318084.0            Furnace + Promo  24.37   \n",
       "2  199966.0  Kingsburg Segunda Edición  44.95   \n",
       "3  264055.0       Draftosaurus: Marina  11.65   \n",
       "\n",
       "                                                 url        date  \n",
       "0  https://jugamosotra.com/es/juegos/5388-new-yor...  2022-05-22  \n",
       "1  https://jugamosotra.com/es/juegos/6732-furnace...  2022-05-22  \n",
       "2  https://jugamosotra.com/es/juegos/6471-kingsbu...  2022-05-22  \n",
       "3  https://jugamosotra.com/es/juegos/5866-draftos...  2022-05-22  "
      ]
     },
     "execution_count": 15,
     "metadata": {},
     "output_type": "execute_result"
    }
   ],
   "source": [
    "df"
   ]
  },
  {
   "cell_type": "code",
   "execution_count": 11,
   "metadata": {},
   "outputs": [],
   "source": [
    "def send_mail():\n",
    "    for i, game in df.iterrows():\n",
    "        if game['price'] <= price_wanted:\n",
    "            print(game['name'])\n",
    "            print(game['price'])\n",
    "\n",
    "            with smtplib.SMTP_SSL('smtp.gmail.com', 465) as smtp:\n",
    "                x = keyring.get_credential(service_name='mail_pess',username=None)\n",
    "                user_mail = x.username\n",
    "                pass_mail = x.password\n",
    "                smtp.login(user_mail, pass_mail)\n",
    "\n",
    "                msg = EmailMessage()\n",
    "                msg['Subject'] = f\"{game['name']} is at {game['price']}€! Now is your chance to buy!\"\n",
    "                msg['From'] = user_mail\n",
    "                msg['To'] = user_mail\n",
    "                msg.set_content(f\"Filipe, This is the moment we have been waiting for.\\nNow is your chance to pick up {game['name']}.\\nDon't mess it up! Link here: {game['url']}\")\n",
    "\n",
    "                smtp.send_message(msg)\n",
    "                print('Message sent! Check your e-mail account!')"
   ]
  },
  {
   "cell_type": "code",
   "execution_count": 12,
   "metadata": {},
   "outputs": [
    {
     "name": "stdout",
     "output_type": "stream",
     "text": [
      "Draftosaurus: Marina\n",
      "11.65\n",
      "Message sent! Check your e-mail account!\n"
     ]
    }
   ],
   "source": [
    "send_mail()"
   ]
  },
  {
   "cell_type": "code",
   "execution_count": null,
   "metadata": {},
   "outputs": [],
   "source": []
  }
 ],
 "metadata": {
  "interpreter": {
   "hash": "e116347e4bb6ab8518c199c49c72243deedb55d063d10b02d0e22ccfd5841962"
  },
  "kernelspec": {
   "display_name": "Python 3.10.2 ('minimal_ds')",
   "language": "python",
   "name": "python3"
  },
  "language_info": {
   "codemirror_mode": {
    "name": "ipython",
    "version": 3
   },
   "file_extension": ".py",
   "mimetype": "text/x-python",
   "name": "python",
   "nbconvert_exporter": "python",
   "pygments_lexer": "ipython3",
   "version": "3.10.2"
  },
  "orig_nbformat": 4
 },
 "nbformat": 4,
 "nbformat_minor": 2
}
